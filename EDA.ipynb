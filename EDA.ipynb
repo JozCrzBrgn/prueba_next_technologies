{
 "cells": [
  {
   "cell_type": "markdown",
   "metadata": {},
   "source": [
    "# Importamos librerias"
   ]
  },
  {
   "cell_type": "code",
   "execution_count": 3,
   "metadata": {},
   "outputs": [],
   "source": [
    "import pandas as pd\n",
    "import random\n",
    "import hashlib\n",
    "import pymysql"
   ]
  },
  {
   "cell_type": "markdown",
   "metadata": {},
   "source": [
    "# Exploramos el dataset"
   ]
  },
  {
   "cell_type": "markdown",
   "metadata": {},
   "source": [
    "## Creamos el dataframe"
   ]
  },
  {
   "cell_type": "code",
   "execution_count": 4,
   "metadata": {},
   "outputs": [
    {
     "data": {
      "text/html": [
       "<div>\n",
       "<style scoped>\n",
       "    .dataframe tbody tr th:only-of-type {\n",
       "        vertical-align: middle;\n",
       "    }\n",
       "\n",
       "    .dataframe tbody tr th {\n",
       "        vertical-align: top;\n",
       "    }\n",
       "\n",
       "    .dataframe thead th {\n",
       "        text-align: right;\n",
       "    }\n",
       "</style>\n",
       "<table border=\"1\" class=\"dataframe\">\n",
       "  <thead>\n",
       "    <tr style=\"text-align: right;\">\n",
       "      <th></th>\n",
       "      <th>id</th>\n",
       "      <th>name</th>\n",
       "      <th>company_id</th>\n",
       "      <th>amount</th>\n",
       "      <th>status</th>\n",
       "      <th>created_at</th>\n",
       "      <th>paid_at</th>\n",
       "    </tr>\n",
       "  </thead>\n",
       "  <tbody>\n",
       "    <tr>\n",
       "      <th>0</th>\n",
       "      <td>48ba4bdbfb56ceebb32f2bd0263e759be942af3d</td>\n",
       "      <td>MiPasajefy</td>\n",
       "      <td>cbf1c8b09cd5b549416d49d220a40cbd317f952e</td>\n",
       "      <td>3.00</td>\n",
       "      <td>voided</td>\n",
       "      <td>2019-03-19</td>\n",
       "      <td>NaN</td>\n",
       "    </tr>\n",
       "    <tr>\n",
       "      <th>1</th>\n",
       "      <td>05fc6f5ac66b6ee7e4253aa5d0c2299eb47aaaf4</td>\n",
       "      <td>MiPasajefy</td>\n",
       "      <td>cbf1c8b09cd5b549416d49d220a40cbd317f952e</td>\n",
       "      <td>3.00</td>\n",
       "      <td>pending_payment</td>\n",
       "      <td>2019-05-06</td>\n",
       "      <td>NaN</td>\n",
       "    </tr>\n",
       "    <tr>\n",
       "      <th>2</th>\n",
       "      <td>2cdce231c1fc6a2061bfa2f1d978351fe217245d</td>\n",
       "      <td>MiPasajefy</td>\n",
       "      <td>cbf1c8b09cd5b549416d49d220a40cbd317f952e</td>\n",
       "      <td>3.00</td>\n",
       "      <td>voided</td>\n",
       "      <td>2019-02-22</td>\n",
       "      <td>NaN</td>\n",
       "    </tr>\n",
       "    <tr>\n",
       "      <th>3</th>\n",
       "      <td>81633ba310a50b673efd469c37139576982901aa</td>\n",
       "      <td>MiPasajefy</td>\n",
       "      <td>cbf1c8b09cd5b549416d49d220a40cbd317f952e</td>\n",
       "      <td>102.61</td>\n",
       "      <td>paid</td>\n",
       "      <td>2019-02-27</td>\n",
       "      <td>2019-02-27</td>\n",
       "    </tr>\n",
       "    <tr>\n",
       "      <th>4</th>\n",
       "      <td>6ccfc4c24e788e4bca448df343698782db6b0c0b</td>\n",
       "      <td>MiPasajefy</td>\n",
       "      <td>cbf1c8b09cd5b549416d49d220a40cbd317f952e</td>\n",
       "      <td>184.49</td>\n",
       "      <td>paid</td>\n",
       "      <td>2019-02-05</td>\n",
       "      <td>2019-02-05</td>\n",
       "    </tr>\n",
       "  </tbody>\n",
       "</table>\n",
       "</div>"
      ],
      "text/plain": [
       "                                         id        name  \\\n",
       "0  48ba4bdbfb56ceebb32f2bd0263e759be942af3d  MiPasajefy   \n",
       "1  05fc6f5ac66b6ee7e4253aa5d0c2299eb47aaaf4  MiPasajefy   \n",
       "2  2cdce231c1fc6a2061bfa2f1d978351fe217245d  MiPasajefy   \n",
       "3  81633ba310a50b673efd469c37139576982901aa  MiPasajefy   \n",
       "4  6ccfc4c24e788e4bca448df343698782db6b0c0b  MiPasajefy   \n",
       "\n",
       "                                 company_id  amount           status  \\\n",
       "0  cbf1c8b09cd5b549416d49d220a40cbd317f952e    3.00           voided   \n",
       "1  cbf1c8b09cd5b549416d49d220a40cbd317f952e    3.00  pending_payment   \n",
       "2  cbf1c8b09cd5b549416d49d220a40cbd317f952e    3.00           voided   \n",
       "3  cbf1c8b09cd5b549416d49d220a40cbd317f952e  102.61             paid   \n",
       "4  cbf1c8b09cd5b549416d49d220a40cbd317f952e  184.49             paid   \n",
       "\n",
       "   created_at     paid_at  \n",
       "0  2019-03-19         NaN  \n",
       "1  2019-05-06         NaN  \n",
       "2  2019-02-22         NaN  \n",
       "3  2019-02-27  2019-02-27  \n",
       "4  2019-02-05  2019-02-05  "
      ]
     },
     "execution_count": 4,
     "metadata": {},
     "output_type": "execute_result"
    }
   ],
   "source": [
    "df = pd.read_csv('data_prueba_técnica.csv')\n",
    "df.head()"
   ]
  },
  {
   "cell_type": "markdown",
   "metadata": {},
   "source": [
    "## Informacion general"
   ]
  },
  {
   "cell_type": "code",
   "execution_count": 5,
   "metadata": {},
   "outputs": [
    {
     "name": "stdout",
     "output_type": "stream",
     "text": [
      "Shape del Dataframe: (10000, 7)\n",
      "\n",
      "<class 'pandas.core.frame.DataFrame'>\n",
      "RangeIndex: 10000 entries, 0 to 9999\n",
      "Data columns (total 7 columns):\n",
      " #   Column      Non-Null Count  Dtype  \n",
      "---  ------      --------------  -----  \n",
      " 0   id          9997 non-null   object \n",
      " 1   name        9997 non-null   object \n",
      " 2   company_id  9996 non-null   object \n",
      " 3   amount      10000 non-null  float64\n",
      " 4   status      10000 non-null  object \n",
      " 5   created_at  10000 non-null  object \n",
      " 6   paid_at     6009 non-null   object \n",
      "dtypes: float64(1), object(6)\n",
      "memory usage: 547.0+ KB\n"
     ]
    }
   ],
   "source": [
    "# obtener la cantidad de filas y columnas\n",
    "print(f\"Shape del Dataframe: {df.shape}\\n\")\n",
    "# Mostramos la información del dataframe\n",
    "df.info()"
   ]
  },
  {
   "cell_type": "code",
   "execution_count": 6,
   "metadata": {},
   "outputs": [
    {
     "data": {
      "text/plain": [
       "id               3\n",
       "name             3\n",
       "company_id       4\n",
       "amount           0\n",
       "status           0\n",
       "created_at       0\n",
       "paid_at       3991\n",
       "dtype: int64"
      ]
     },
     "execution_count": 6,
     "metadata": {},
     "output_type": "execute_result"
    }
   ],
   "source": [
    "# Vemos si hay valores null en el dataframe\n",
    "df.isnull().sum()"
   ]
  },
  {
   "cell_type": "markdown",
   "metadata": {},
   "source": [
    "Observamos que hay valores faltantes en las columnas 'id', 'company_name', 'company_id' y 'paid_at'. \n",
    "\n",
    "Esto será un problema ya que más adelante se usará el siguiente esquema:\n",
    "\n",
    "```\n",
    "id VARCHAR(24) PRIMARY KEY NOT NULL,\n",
    "company_name VARCHAR(130) NULL\n",
    "company_id VARCHAR(24) NOT NULL,\n",
    "amount DECIMAL(16, 2) NOT NULL,\n",
    "status VARCHAR(30) NOT NULL,\n",
    "created_at TIMESTAMP NOT NULL,\n",
    "updated_at TIMESTAMP NULL,\n",
    "```\n",
    "\n",
    "por lo tanto 'id' y 'company_id' no pueden ser nulos."
   ]
  },
  {
   "cell_type": "markdown",
   "metadata": {},
   "source": [
    "## Encontar valores faltantes"
   ]
  },
  {
   "cell_type": "code",
   "execution_count": 7,
   "metadata": {},
   "outputs": [
    {
     "data": {
      "text/html": [
       "<div>\n",
       "<style scoped>\n",
       "    .dataframe tbody tr th:only-of-type {\n",
       "        vertical-align: middle;\n",
       "    }\n",
       "\n",
       "    .dataframe tbody tr th {\n",
       "        vertical-align: top;\n",
       "    }\n",
       "\n",
       "    .dataframe thead th {\n",
       "        text-align: right;\n",
       "    }\n",
       "</style>\n",
       "<table border=\"1\" class=\"dataframe\">\n",
       "  <thead>\n",
       "    <tr style=\"text-align: right;\">\n",
       "      <th></th>\n",
       "      <th>id</th>\n",
       "      <th>name</th>\n",
       "      <th>company_id</th>\n",
       "      <th>amount</th>\n",
       "      <th>status</th>\n",
       "      <th>created_at</th>\n",
       "      <th>paid_at</th>\n",
       "    </tr>\n",
       "  </thead>\n",
       "  <tbody>\n",
       "    <tr>\n",
       "      <th>0</th>\n",
       "      <td>48ba4bdbfb56ceebb32f2bd0263e759be942af3d</td>\n",
       "      <td>MiPasajefy</td>\n",
       "      <td>cbf1c8b09cd5b549416d49d220a40cbd317f952e</td>\n",
       "      <td>3.00</td>\n",
       "      <td>voided</td>\n",
       "      <td>2019-03-19</td>\n",
       "      <td>NaN</td>\n",
       "    </tr>\n",
       "    <tr>\n",
       "      <th>1</th>\n",
       "      <td>05fc6f5ac66b6ee7e4253aa5d0c2299eb47aaaf4</td>\n",
       "      <td>MiPasajefy</td>\n",
       "      <td>cbf1c8b09cd5b549416d49d220a40cbd317f952e</td>\n",
       "      <td>3.00</td>\n",
       "      <td>pending_payment</td>\n",
       "      <td>2019-05-06</td>\n",
       "      <td>NaN</td>\n",
       "    </tr>\n",
       "    <tr>\n",
       "      <th>2</th>\n",
       "      <td>2cdce231c1fc6a2061bfa2f1d978351fe217245d</td>\n",
       "      <td>MiPasajefy</td>\n",
       "      <td>cbf1c8b09cd5b549416d49d220a40cbd317f952e</td>\n",
       "      <td>3.00</td>\n",
       "      <td>voided</td>\n",
       "      <td>2019-02-22</td>\n",
       "      <td>NaN</td>\n",
       "    </tr>\n",
       "    <tr>\n",
       "      <th>3</th>\n",
       "      <td>81633ba310a50b673efd469c37139576982901aa</td>\n",
       "      <td>MiPasajefy</td>\n",
       "      <td>cbf1c8b09cd5b549416d49d220a40cbd317f952e</td>\n",
       "      <td>102.61</td>\n",
       "      <td>paid</td>\n",
       "      <td>2019-02-27</td>\n",
       "      <td>2019-02-27</td>\n",
       "    </tr>\n",
       "    <tr>\n",
       "      <th>4</th>\n",
       "      <td>6ccfc4c24e788e4bca448df343698782db6b0c0b</td>\n",
       "      <td>MiPasajefy</td>\n",
       "      <td>cbf1c8b09cd5b549416d49d220a40cbd317f952e</td>\n",
       "      <td>184.49</td>\n",
       "      <td>paid</td>\n",
       "      <td>2019-02-05</td>\n",
       "      <td>2019-02-05</td>\n",
       "    </tr>\n",
       "  </tbody>\n",
       "</table>\n",
       "</div>"
      ],
      "text/plain": [
       "                                         id        name  \\\n",
       "0  48ba4bdbfb56ceebb32f2bd0263e759be942af3d  MiPasajefy   \n",
       "1  05fc6f5ac66b6ee7e4253aa5d0c2299eb47aaaf4  MiPasajefy   \n",
       "2  2cdce231c1fc6a2061bfa2f1d978351fe217245d  MiPasajefy   \n",
       "3  81633ba310a50b673efd469c37139576982901aa  MiPasajefy   \n",
       "4  6ccfc4c24e788e4bca448df343698782db6b0c0b  MiPasajefy   \n",
       "\n",
       "                                 company_id  amount           status  \\\n",
       "0  cbf1c8b09cd5b549416d49d220a40cbd317f952e    3.00           voided   \n",
       "1  cbf1c8b09cd5b549416d49d220a40cbd317f952e    3.00  pending_payment   \n",
       "2  cbf1c8b09cd5b549416d49d220a40cbd317f952e    3.00           voided   \n",
       "3  cbf1c8b09cd5b549416d49d220a40cbd317f952e  102.61             paid   \n",
       "4  cbf1c8b09cd5b549416d49d220a40cbd317f952e  184.49             paid   \n",
       "\n",
       "   created_at     paid_at  \n",
       "0  2019-03-19         NaN  \n",
       "1  2019-05-06         NaN  \n",
       "2  2019-02-22         NaN  \n",
       "3  2019-02-27  2019-02-27  \n",
       "4  2019-02-05  2019-02-05  "
      ]
     },
     "execution_count": 7,
     "metadata": {},
     "output_type": "execute_result"
    }
   ],
   "source": [
    "# Primero, obtenemos una copia del dataframe original\n",
    "df_copy = df.copy()\n",
    "df_copy.head()"
   ]
  },
  {
   "cell_type": "code",
   "execution_count": 9,
   "metadata": {},
   "outputs": [
    {
     "name": "stdout",
     "output_type": "stream",
     "text": [
      "Valores únicos para la columna 'id': 9997\n",
      "Valores únicos para la columna 'name': 4\n",
      "Valores únicos para la columna 'company_id': 3\n"
     ]
    }
   ],
   "source": [
    "# Obtenemos la cantidad de valores unicos para las columnas 'id', 'name' y 'company_id'\n",
    "print(f\"Valores únicos para la columna 'id': {df_copy['id'].nunique()}\")\n",
    "print(f\"Valores únicos para la columna 'name': {df_copy['name'].nunique()}\")\n",
    "print(f\"Valores únicos para la columna 'company_id': {df_copy['company_id'].nunique()}\")"
   ]
  },
  {
   "cell_type": "code",
   "execution_count": 10,
   "metadata": {},
   "outputs": [
    {
     "name": "stdout",
     "output_type": "stream",
     "text": [
      "['cbf1c8b09cd5b549416d49d220a40cbd317f952e'\n",
      " '8f642dc67fccf861548dfe1c761ce22f795e91f0' nan '*******']\n",
      "Longitud de cbf1c8b09cd5b549416d49d220a40cbd317f952e: 40\n",
      "Longitud de 8f642dc67fccf861548dfe1c761ce22f795e91f0: 40\n",
      "Error: nan\n",
      "Longitud de *******: 7\n"
     ]
    }
   ],
   "source": [
    "# Obtenemos los valores únicos de la columna 'company_id'\n",
    "print(df_copy['company_id'].unique())\n",
    "\n",
    "# Calculamos la longitud de los valores únicos de la columna 'company_id'\n",
    "for item in df_copy['company_id'].unique():\n",
    "    try:\n",
    "        print(f\"Longitud de {item}: {len(item)}\")\n",
    "    except:\n",
    "        print(f\"Error: {item}\")"
   ]
  },
  {
   "cell_type": "code",
   "execution_count": 11,
   "metadata": {},
   "outputs": [
    {
     "name": "stdout",
     "output_type": "stream",
     "text": [
      "['MiPasajefy' 'Muebles chidos' nan 'MiPas0xFFFF' 'MiP0xFFFF']\n",
      "Longitud de MiPasajefy: 10\n",
      "Longitud de Muebles chidos: 14\n",
      "Error: nan\n",
      "Longitud de MiPas0xFFFF: 11\n",
      "Longitud de MiP0xFFFF: 9\n"
     ]
    }
   ],
   "source": [
    "# Obtenemos los valores únicos de la columna 'name'\n",
    "print(df_copy['name'].unique())\n",
    "\n",
    "# Calculamos la longitud de los valores únicos de la columna 'name'\n",
    "for item in df_copy['name'].unique():\n",
    "    try:\n",
    "        print(f\"Longitud de {item}: {len(item)}\")\n",
    "    except:\n",
    "        print(f\"Error: {item}\")"
   ]
  },
  {
   "cell_type": "markdown",
   "metadata": {},
   "source": [
    "### Columna: 'id'"
   ]
  },
  {
   "cell_type": "code",
   "execution_count": 12,
   "metadata": {},
   "outputs": [],
   "source": [
    "# Aqui no hay forma de obtener los valores faltantes ya que son unicos, así que se toma la decision de crearlos artificialmente\n",
    "# Función para generar un hash aleatorio con el mismo formato\n",
    "def generar_id():\n",
    "    random_str = str(random.getrandbits(256))\n",
    "    return hashlib.sha1(random_str.encode()).hexdigest()\n",
    "# Reemplazar valores NaN con un ID aleatorio\n",
    "df_copy['id'] = df_copy['id'].apply(lambda x: generar_id() if pd.isna(x) else x)"
   ]
  },
  {
   "cell_type": "code",
   "execution_count": 13,
   "metadata": {},
   "outputs": [
    {
     "data": {
      "text/plain": [
       "40"
      ]
     },
     "execution_count": 13,
     "metadata": {},
     "output_type": "execute_result"
    }
   ],
   "source": [
    "# Calculamos la longitud de los valores únicos de la columna 'id'\n",
    "list_id_length = [len(item) for item in df_copy['id'].unique()]\n",
    "max(list_id_length) "
   ]
  },
  {
   "cell_type": "markdown",
   "metadata": {},
   "source": [
    "### Columna: 'company_id'"
   ]
  },
  {
   "cell_type": "code",
   "execution_count": 14,
   "metadata": {},
   "outputs": [],
   "source": [
    "# Usaremos la columna 'name' para encontar los valores faltantes en la columna 'company_id'\n",
    "# Obtenemos la moda de la columna 'company_id' cuando 'name' es igual a 'MiPasajefy'\n",
    "moda_MiPasajefy = df_copy[df_copy['name']=='MiPasajefy']['company_id'].mode()\n",
    "# Si 'name' es igual a 'MiPasajefy' reemplazamos 'company_id' por moda_MiPasajefy\n",
    "df_copy.loc[df_copy['name'] == 'MiPasajefy', 'company_id'] = moda_MiPasajefy\n",
    "# Reemplazamos los valores faltantes en la columna 'company_id' por la moda solo si 'name' es igual 'MiPasajefy'\n",
    "df_copy.loc[df_copy['name']=='MiPasajefy', 'company_id'] = df_copy.loc[df_copy['name']=='MiPasajefy', 'company_id'].fillna(moda_MiPasajefy[0])"
   ]
  },
  {
   "cell_type": "code",
   "execution_count": 15,
   "metadata": {},
   "outputs": [
    {
     "name": "stdout",
     "output_type": "stream",
     "text": [
      "['cbf1c8b09cd5b549416d49d220a40cbd317f952e'\n",
      " '8f642dc67fccf861548dfe1c761ce22f795e91f0']\n",
      "\n",
      "Valores faltantes en la columna 'company_id': 0\n"
     ]
    }
   ],
   "source": [
    "# Obtenemos los valores únicos de la columna 'company_id' y confimamos que no hay valores faltantes\n",
    "print(df_copy['company_id'].unique())\n",
    "print(f\"\\nValores faltantes en la columna 'company_id': {df_copy['company_id'].isnull().sum()}\")"
   ]
  },
  {
   "cell_type": "markdown",
   "metadata": {},
   "source": [
    "### Columna: 'name'"
   ]
  },
  {
   "cell_type": "code",
   "execution_count": 16,
   "metadata": {},
   "outputs": [
    {
     "name": "stdout",
     "output_type": "stream",
     "text": [
      "MiPas0xFFFF company_id\n",
      "1320    cbf1c8b09cd5b549416d49d220a40cbd317f952e\n",
      "Name: company_id, dtype: object\n",
      "\n",
      "MiP0xFFFF company_id\n",
      "1479    cbf1c8b09cd5b549416d49d220a40cbd317f952e\n",
      "Name: company_id, dtype: object\n"
     ]
    }
   ],
   "source": [
    "# Filtramos los valores para los cuales 'name' es igual a 'MiPas0xFFFF' o 'nMiP0xFFFF' y asi obtener el 'company_id' correspondiente\n",
    "print(f\"MiPas0xFFFF company_id\\n{df_copy[df_copy['name']=='MiPas0xFFFF']['company_id']}\")\n",
    "print(f\"\\nMiP0xFFFF company_id\\n{df_copy[df_copy['name']=='MiP0xFFFF']['company_id']}\")"
   ]
  },
  {
   "cell_type": "code",
   "execution_count": 17,
   "metadata": {},
   "outputs": [
    {
     "data": {
      "text/plain": [
       "0    MiPasajefy\n",
       "Name: name, dtype: object"
      ]
     },
     "execution_count": 17,
     "metadata": {},
     "output_type": "execute_result"
    }
   ],
   "source": [
    "# Filtramos el valor para el cual 'company_id' es igual a 'cbf1c8b09cd5b549416d49d220a40cbd317f952e' y mostramos la moda de la columna 'name'\n",
    "df_copy[df_copy['company_id']=='cbf1c8b09cd5b549416d49d220a40cbd317f952e']['name'].mode()"
   ]
  },
  {
   "cell_type": "code",
   "execution_count": 18,
   "metadata": {},
   "outputs": [
    {
     "name": "stdout",
     "output_type": "stream",
     "text": [
      "['MiPasajefy' 'Muebles chidos']\n",
      "\n",
      "Valores faltantes en la columna 'name': 0\n"
     ]
    }
   ],
   "source": [
    "# Notamos que al 'name'='MiPasajefy' le corresponde el 'company_id'='cbf1c8b09cd5b549416d49d220a40cbd317f952e'\n",
    "# por lo tanto, sustituimos en la columna 'name' el valor 'MiPasajefy' cuando 'company_id' es igual a 'cbf1c8b09cd5b549416d49d220a40cbd317f952e'\n",
    "df_copy.loc[df_copy['company_id']=='cbf1c8b09cd5b549416d49d220a40cbd317f952e', 'name'] = 'MiPasajefy'\n",
    "# Obtenemos los valores únicos de la columna 'name'\n",
    "print(df_copy['name'].unique())\n",
    "print(f\"\\nValores faltantes en la columna 'name': {df_copy['name'].isnull().sum()}\")"
   ]
  },
  {
   "cell_type": "code",
   "execution_count": 19,
   "metadata": {},
   "outputs": [
    {
     "name": "stdout",
     "output_type": "stream",
     "text": [
      "Shape del Dataframe: (10000, 7)\n",
      "\n",
      "<class 'pandas.core.frame.DataFrame'>\n",
      "RangeIndex: 10000 entries, 0 to 9999\n",
      "Data columns (total 7 columns):\n",
      " #   Column      Non-Null Count  Dtype  \n",
      "---  ------      --------------  -----  \n",
      " 0   id          10000 non-null  object \n",
      " 1   name        10000 non-null  object \n",
      " 2   company_id  10000 non-null  object \n",
      " 3   amount      10000 non-null  float64\n",
      " 4   status      10000 non-null  object \n",
      " 5   created_at  10000 non-null  object \n",
      " 6   paid_at     6009 non-null   object \n",
      "dtypes: float64(1), object(6)\n",
      "memory usage: 547.0+ KB\n"
     ]
    }
   ],
   "source": [
    "# obtener la cantidad de filas y columnas\n",
    "print(f\"Shape del Dataframe: {df_copy.shape}\\n\")\n",
    "# Mostramos la información del dataframe\n",
    "df_copy.info()"
   ]
  },
  {
   "cell_type": "markdown",
   "metadata": {},
   "source": [
    "## Valores nulos"
   ]
  },
  {
   "cell_type": "code",
   "execution_count": 20,
   "metadata": {},
   "outputs": [
    {
     "data": {
      "text/plain": [
       "id               0\n",
       "name             0\n",
       "company_id       0\n",
       "amount           0\n",
       "status           0\n",
       "created_at       0\n",
       "paid_at       3991\n",
       "dtype: int64"
      ]
     },
     "execution_count": 20,
     "metadata": {},
     "output_type": "execute_result"
    }
   ],
   "source": [
    "# Vemos si hay valores null en el dataframe\n",
    "df_copy.isnull().sum()"
   ]
  },
  {
   "cell_type": "markdown",
   "metadata": {},
   "source": [
    "## Valores duplicados en 'id'"
   ]
  },
  {
   "cell_type": "code",
   "execution_count": 21,
   "metadata": {},
   "outputs": [
    {
     "data": {
      "text/plain": [
       "np.int64(0)"
      ]
     },
     "execution_count": 21,
     "metadata": {},
     "output_type": "execute_result"
    }
   ],
   "source": [
    "# Como 'id' será clave primaria, verificamos que no hay valores duplicados\n",
    "df_copy['id'].duplicated().sum()"
   ]
  },
  {
   "cell_type": "code",
   "execution_count": null,
   "metadata": {},
   "outputs": [],
   "source": []
  }
 ],
 "metadata": {
  "kernelspec": {
   "display_name": ".venv",
   "language": "python",
   "name": "python3"
  },
  "language_info": {
   "codemirror_mode": {
    "name": "ipython",
    "version": 3
   },
   "file_extension": ".py",
   "mimetype": "text/x-python",
   "name": "python",
   "nbconvert_exporter": "python",
   "pygments_lexer": "ipython3",
   "version": "3.13.1"
  }
 },
 "nbformat": 4,
 "nbformat_minor": 2
}
